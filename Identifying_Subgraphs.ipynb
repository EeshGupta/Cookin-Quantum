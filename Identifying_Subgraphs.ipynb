{
  "nbformat": 4,
  "nbformat_minor": 0,
  "metadata": {
    "colab": {
      "name": "Identifying Subgraphs.ipynb",
      "provenance": [],
      "collapsed_sections": [],
      "toc_visible": true,
      "authorship_tag": "ABX9TyM8DekISv4QY4+iCod8D8cZ",
      "include_colab_link": true
    },
    "kernelspec": {
      "name": "python3",
      "display_name": "Python 3"
    },
    "language_info": {
      "name": "python"
    }
  },
  "cells": [
    {
      "cell_type": "markdown",
      "metadata": {
        "id": "view-in-github",
        "colab_type": "text"
      },
      "source": [
        "<a href=\"https://colab.research.google.com/github/EeshGupta/Cookin-Quantum/blob/master/Identifying_Subgraphs.ipynb\" target=\"_parent\"><img src=\"https://colab.research.google.com/assets/colab-badge.svg\" alt=\"Open In Colab\"/></a>"
      ]
    },
    {
      "cell_type": "code",
      "metadata": {
        "id": "PCnHA1-wI9LW"
      },
      "source": [
        ""
      ],
      "execution_count": null,
      "outputs": []
    },
    {
      "cell_type": "code",
      "metadata": {
        "id": "tF8G_9aoJQI3"
      },
      "source": [
        ""
      ],
      "execution_count": null,
      "outputs": []
    },
    {
      "cell_type": "markdown",
      "metadata": {
        "id": "cQsOrwDQJIeI"
      },
      "source": [
        "# Imports\n",
        "Some Imports First\n"
      ]
    },
    {
      "cell_type": "code",
      "metadata": {
        "colab": {
          "base_uri": "https://localhost:8080/"
        },
        "id": "D0TnY1rVJKX3",
        "outputId": "3e1cd814-888e-44eb-a56a-1e309e0d98ba"
      },
      "source": [
        "!pip install imgaug==0.2.5\n",
        "!pip install sympy==1.3\n",
        "!pip install folium==0.2.1\n",
        "!pip install networkx==2.3\n",
        "!pip install pynauty"
      ],
      "execution_count": 5,
      "outputs": [
        {
          "output_type": "stream",
          "text": [
            "Requirement already satisfied: imgaug==0.2.5 in /usr/local/lib/python3.7/dist-packages (0.2.5)\n",
            "Requirement already satisfied: scikit-image>=0.11.0 in /usr/local/lib/python3.7/dist-packages (from imgaug==0.2.5) (0.16.2)\n",
            "Requirement already satisfied: numpy>=1.7.0 in /usr/local/lib/python3.7/dist-packages (from imgaug==0.2.5) (1.19.5)\n",
            "Requirement already satisfied: six in /usr/local/lib/python3.7/dist-packages (from imgaug==0.2.5) (1.15.0)\n",
            "Requirement already satisfied: scipy in /usr/local/lib/python3.7/dist-packages (from imgaug==0.2.5) (1.4.1)\n",
            "Requirement already satisfied: imageio>=2.3.0 in /usr/local/lib/python3.7/dist-packages (from scikit-image>=0.11.0->imgaug==0.2.5) (2.4.1)\n",
            "Requirement already satisfied: matplotlib!=3.0.0,>=2.0.0 in /usr/local/lib/python3.7/dist-packages (from scikit-image>=0.11.0->imgaug==0.2.5) (3.2.2)\n",
            "Requirement already satisfied: pillow>=4.3.0 in /usr/local/lib/python3.7/dist-packages (from scikit-image>=0.11.0->imgaug==0.2.5) (7.1.2)\n",
            "Requirement already satisfied: networkx>=2.0 in /usr/local/lib/python3.7/dist-packages (from scikit-image>=0.11.0->imgaug==0.2.5) (2.3)\n",
            "Requirement already satisfied: PyWavelets>=0.4.0 in /usr/local/lib/python3.7/dist-packages (from scikit-image>=0.11.0->imgaug==0.2.5) (1.1.1)\n",
            "Requirement already satisfied: cycler>=0.10 in /usr/local/lib/python3.7/dist-packages (from matplotlib!=3.0.0,>=2.0.0->scikit-image>=0.11.0->imgaug==0.2.5) (0.10.0)\n",
            "Requirement already satisfied: kiwisolver>=1.0.1 in /usr/local/lib/python3.7/dist-packages (from matplotlib!=3.0.0,>=2.0.0->scikit-image>=0.11.0->imgaug==0.2.5) (1.3.1)\n",
            "Requirement already satisfied: python-dateutil>=2.1 in /usr/local/lib/python3.7/dist-packages (from matplotlib!=3.0.0,>=2.0.0->scikit-image>=0.11.0->imgaug==0.2.5) (2.8.1)\n",
            "Requirement already satisfied: pyparsing!=2.0.4,!=2.1.2,!=2.1.6,>=2.0.1 in /usr/local/lib/python3.7/dist-packages (from matplotlib!=3.0.0,>=2.0.0->scikit-image>=0.11.0->imgaug==0.2.5) (2.4.7)\n",
            "Requirement already satisfied: decorator>=4.3.0 in /usr/local/lib/python3.7/dist-packages (from networkx>=2.0->scikit-image>=0.11.0->imgaug==0.2.5) (4.4.2)\n",
            "\u001b[31mERROR: Operation cancelled by user\u001b[0m\n",
            "Requirement already satisfied: sympy==1.3 in /usr/local/lib/python3.7/dist-packages (1.3)\n",
            "Requirement already satisfied: mpmath>=0.19 in /usr/local/lib/python3.7/dist-packages (from sympy==1.3) (1.2.1)\n",
            "Requirement already satisfied: folium==0.2.1 in /usr/local/lib/python3.7/dist-packages (0.2.1)\n",
            "Requirement already satisfied: Jinja2 in /usr/local/lib/python3.7/dist-packages (from folium==0.2.1) (2.11.3)\n",
            "Requirement already satisfied: MarkupSafe>=0.23 in /usr/local/lib/python3.7/dist-packages (from Jinja2->folium==0.2.1) (2.0.1)\n",
            "Requirement already satisfied: networkx==2.3 in /usr/local/lib/python3.7/dist-packages (2.3)\n",
            "Requirement already satisfied: decorator>=4.3.0 in /usr/local/lib/python3.7/dist-packages (from networkx==2.3) (4.4.2)\n",
            "Requirement already satisfied: pynauty in /usr/local/lib/python3.7/dist-packages (1.0.1)\n"
          ],
          "name": "stdout"
        }
      ]
    },
    {
      "cell_type": "markdown",
      "metadata": {
        "id": "ArYS9TqoJjyS"
      },
      "source": [
        "## More Imports"
      ]
    },
    {
      "cell_type": "code",
      "metadata": {
        "colab": {
          "base_uri": "https://localhost:8080/"
        },
        "id": "kJSn73oKJRxj",
        "outputId": "537c2519-b419-4a29-c64e-646e19744526"
      },
      "source": [
        "!pip install git+https://github.com/danlkv/qtensor.git@merged_ix"
      ],
      "execution_count": 6,
      "outputs": [
        {
          "output_type": "stream",
          "text": [
            "Collecting git+https://github.com/danlkv/qtensor.git@merged_ix\n",
            "  Cloning https://github.com/danlkv/qtensor.git (to revision merged_ix) to /tmp/pip-req-build-iuylwi4_\n",
            "  Running command git clone -q https://github.com/danlkv/qtensor.git /tmp/pip-req-build-iuylwi4_\n",
            "  Running command git checkout -b merged_ix --track origin/merged_ix\n",
            "  Switched to a new branch 'merged_ix'\n",
            "  Branch 'merged_ix' set up to track remote branch 'merged_ix' from 'origin'.\n",
            "  Running command git submodule update --init --recursive -q\n",
            "Requirement already satisfied (use --upgrade to upgrade): qtensor==0.1.2 from git+https://github.com/danlkv/qtensor.git@merged_ix in /usr/local/lib/python3.7/dist-packages\n",
            "Requirement already satisfied: numpy in /usr/local/lib/python3.7/dist-packages (from qtensor==0.1.2) (1.19.5)\n",
            "Requirement already satisfied: networkx>=2.3 in /usr/local/lib/python3.7/dist-packages (from qtensor==0.1.2) (2.3)\n",
            "Requirement already satisfied: matplotlib in /usr/local/lib/python3.7/dist-packages (from qtensor==0.1.2) (3.2.2)\n",
            "Requirement already satisfied: google-api-core[grpc]<=1.14.0 in /usr/local/lib/python3.7/dist-packages (from qtensor==0.1.2) (1.14.0)\n",
            "Requirement already satisfied: cirq in /usr/local/lib/python3.7/dist-packages (from qtensor==0.1.2) (0.11.0)\n",
            "Requirement already satisfied: qiskit in /usr/local/lib/python3.7/dist-packages (from qtensor==0.1.2) (0.26.2)\n",
            "Requirement already satisfied: pyrofiler>=0.1.5 in /usr/local/lib/python3.7/dist-packages (from qtensor==0.1.2) (0.1.6)\n",
            "Requirement already satisfied: loguru in /usr/local/lib/python3.7/dist-packages (from qtensor==0.1.2) (0.5.3)\n",
            "Requirement already satisfied: tqdm in /usr/local/lib/python3.7/dist-packages (from qtensor==0.1.2) (4.41.1)\n",
            "Requirement already satisfied: click in /usr/local/lib/python3.7/dist-packages (from qtensor==0.1.2) (7.1.2)\n",
            "Requirement already satisfied: qtensor-qtree in /usr/local/lib/python3.7/dist-packages (from qtensor==0.1.2) (0.1.2)\n",
            "Requirement already satisfied: lazy-import in /usr/local/lib/python3.7/dist-packages (from qtensor==0.1.2) (0.2.2)\n",
            "Requirement already satisfied: decorator>=4.3.0 in /usr/local/lib/python3.7/dist-packages (from networkx>=2.3->qtensor==0.1.2) (4.4.2)\n",
            "Requirement already satisfied: pyparsing!=2.0.4,!=2.1.2,!=2.1.6,>=2.0.1 in /usr/local/lib/python3.7/dist-packages (from matplotlib->qtensor==0.1.2) (2.4.7)\n",
            "Requirement already satisfied: kiwisolver>=1.0.1 in /usr/local/lib/python3.7/dist-packages (from matplotlib->qtensor==0.1.2) (1.3.1)\n",
            "Requirement already satisfied: python-dateutil>=2.1 in /usr/local/lib/python3.7/dist-packages (from matplotlib->qtensor==0.1.2) (2.8.1)\n",
            "Requirement already satisfied: cycler>=0.10 in /usr/local/lib/python3.7/dist-packages (from matplotlib->qtensor==0.1.2) (0.10.0)\n",
            "Requirement already satisfied: requests<3.0.0dev,>=2.18.0 in /usr/local/lib/python3.7/dist-packages (from google-api-core[grpc]<=1.14.0->qtensor==0.1.2) (2.23.0)\n",
            "Requirement already satisfied: setuptools>=34.0.0 in /usr/local/lib/python3.7/dist-packages (from google-api-core[grpc]<=1.14.0->qtensor==0.1.2) (57.0.0)\n",
            "Requirement already satisfied: googleapis-common-protos<2.0dev,>=1.6.0 in /usr/local/lib/python3.7/dist-packages (from google-api-core[grpc]<=1.14.0->qtensor==0.1.2) (1.53.0)\n",
            "Requirement already satisfied: google-auth<2.0dev,>=0.4.0 in /usr/local/lib/python3.7/dist-packages (from google-api-core[grpc]<=1.14.0->qtensor==0.1.2) (1.30.0)\n",
            "Requirement already satisfied: six>=1.10.0 in /usr/local/lib/python3.7/dist-packages (from google-api-core[grpc]<=1.14.0->qtensor==0.1.2) (1.15.0)\n",
            "Requirement already satisfied: pytz in /usr/local/lib/python3.7/dist-packages (from google-api-core[grpc]<=1.14.0->qtensor==0.1.2) (2018.9)\n",
            "Requirement already satisfied: protobuf>=3.4.0 in /usr/local/lib/python3.7/dist-packages (from google-api-core[grpc]<=1.14.0->qtensor==0.1.2) (3.12.4)\n",
            "Requirement already satisfied: grpcio<2.0dev,>=1.8.2; extra == \"grpc\" in /usr/local/lib/python3.7/dist-packages (from google-api-core[grpc]<=1.14.0->qtensor==0.1.2) (1.34.1)\n",
            "Requirement already satisfied: cirq-google==0.11.0 in /usr/local/lib/python3.7/dist-packages (from cirq->qtensor==0.1.2) (0.11.0)\n",
            "Requirement already satisfied: cirq-core==0.11.0 in /usr/local/lib/python3.7/dist-packages (from cirq->qtensor==0.1.2) (0.11.0)\n",
            "Requirement already satisfied: qiskit-aer==0.8.2 in /usr/local/lib/python3.7/dist-packages (from qiskit->qtensor==0.1.2) (0.8.2)\n",
            "Requirement already satisfied: qiskit-ibmq-provider==0.13.1 in /usr/local/lib/python3.7/dist-packages (from qiskit->qtensor==0.1.2) (0.13.1)\n",
            "Requirement already satisfied: qiskit-terra==0.17.4 in /usr/local/lib/python3.7/dist-packages (from qiskit->qtensor==0.1.2) (0.17.4)\n",
            "Requirement already satisfied: qiskit-ignis==0.6.0 in /usr/local/lib/python3.7/dist-packages (from qiskit->qtensor==0.1.2) (0.6.0)\n",
            "Requirement already satisfied: qiskit-aqua==0.9.1 in /usr/local/lib/python3.7/dist-packages (from qiskit->qtensor==0.1.2) (0.9.1)\n",
            "Requirement already satisfied: psutil in /usr/local/lib/python3.7/dist-packages (from pyrofiler>=0.1.5->qtensor==0.1.2) (5.4.8)\n",
            "Requirement already satisfied: urllib3!=1.25.0,!=1.25.1,<1.26,>=1.21.1 in /usr/local/lib/python3.7/dist-packages (from requests<3.0.0dev,>=2.18.0->google-api-core[grpc]<=1.14.0->qtensor==0.1.2) (1.24.3)\n",
            "Requirement already satisfied: idna<3,>=2.5 in /usr/local/lib/python3.7/dist-packages (from requests<3.0.0dev,>=2.18.0->google-api-core[grpc]<=1.14.0->qtensor==0.1.2) (2.10)\n",
            "Requirement already satisfied: chardet<4,>=3.0.2 in /usr/local/lib/python3.7/dist-packages (from requests<3.0.0dev,>=2.18.0->google-api-core[grpc]<=1.14.0->qtensor==0.1.2) (3.0.4)\n",
            "Requirement already satisfied: certifi>=2017.4.17 in /usr/local/lib/python3.7/dist-packages (from requests<3.0.0dev,>=2.18.0->google-api-core[grpc]<=1.14.0->qtensor==0.1.2) (2020.12.5)\n",
            "Requirement already satisfied: pyasn1-modules>=0.2.1 in /usr/local/lib/python3.7/dist-packages (from google-auth<2.0dev,>=0.4.0->google-api-core[grpc]<=1.14.0->qtensor==0.1.2) (0.2.8)\n",
            "Requirement already satisfied: rsa<5,>=3.1.4; python_version >= \"3.6\" in /usr/local/lib/python3.7/dist-packages (from google-auth<2.0dev,>=0.4.0->google-api-core[grpc]<=1.14.0->qtensor==0.1.2) (4.7.2)\n",
            "Requirement already satisfied: cachetools<5.0,>=2.0.0 in /usr/local/lib/python3.7/dist-packages (from google-auth<2.0dev,>=0.4.0->google-api-core[grpc]<=1.14.0->qtensor==0.1.2) (4.2.2)\n",
            "Requirement already satisfied: typing-extensions in /usr/local/lib/python3.7/dist-packages (from cirq-core==0.11.0->cirq->qtensor==0.1.2) (3.7.4.3)\n",
            "Requirement already satisfied: sympy in /usr/local/lib/python3.7/dist-packages (from cirq-core==0.11.0->cirq->qtensor==0.1.2) (1.3)\n",
            "Requirement already satisfied: scipy in /usr/local/lib/python3.7/dist-packages (from cirq-core==0.11.0->cirq->qtensor==0.1.2) (1.4.1)\n",
            "Requirement already satisfied: pandas in /usr/local/lib/python3.7/dist-packages (from cirq-core==0.11.0->cirq->qtensor==0.1.2) (1.1.5)\n",
            "Requirement already satisfied: sortedcontainers~=2.0 in /usr/local/lib/python3.7/dist-packages (from cirq-core==0.11.0->cirq->qtensor==0.1.2) (2.4.0)\n",
            "Requirement already satisfied: pybind11>=2.6 in /usr/local/lib/python3.7/dist-packages (from qiskit-aer==0.8.2->qiskit->qtensor==0.1.2) (2.6.2)\n",
            "Requirement already satisfied: nest-asyncio!=1.1.0,>=1.0.0 in /usr/local/lib/python3.7/dist-packages (from qiskit-ibmq-provider==0.13.1->qiskit->qtensor==0.1.2) (1.5.1)\n",
            "Requirement already satisfied: websockets>=8 in /usr/local/lib/python3.7/dist-packages (from qiskit-ibmq-provider==0.13.1->qiskit->qtensor==0.1.2) (9.1)\n",
            "Requirement already satisfied: requests-ntlm>=1.1.0 in /usr/local/lib/python3.7/dist-packages (from qiskit-ibmq-provider==0.13.1->qiskit->qtensor==0.1.2) (1.1.0)\n",
            "Requirement already satisfied: dill>=0.3 in /usr/local/lib/python3.7/dist-packages (from qiskit-ibmq-provider==0.13.1->qiskit->qtensor==0.1.2) (0.3.3)\n",
            "Requirement already satisfied: ply>=3.10 in /usr/local/lib/python3.7/dist-packages (from qiskit-terra==0.17.4->qiskit->qtensor==0.1.2) (3.11)\n",
            "Requirement already satisfied: python-constraint>=1.4 in /usr/local/lib/python3.7/dist-packages (from qiskit-terra==0.17.4->qiskit->qtensor==0.1.2) (1.4.0)\n",
            "Requirement already satisfied: jsonschema>=2.6 in /usr/local/lib/python3.7/dist-packages (from qiskit-terra==0.17.4->qiskit->qtensor==0.1.2) (2.6.0)\n",
            "Requirement already satisfied: fastjsonschema>=2.10 in /usr/local/lib/python3.7/dist-packages (from qiskit-terra==0.17.4->qiskit->qtensor==0.1.2) (2.15.1)\n",
            "Requirement already satisfied: retworkx>=0.8.0 in /usr/local/lib/python3.7/dist-packages (from qiskit-terra==0.17.4->qiskit->qtensor==0.1.2) (0.9.0)\n",
            "Requirement already satisfied: scikit-learn<=0.24.1,>=0.20.0 in /usr/local/lib/python3.7/dist-packages (from qiskit-aqua==0.9.1->qiskit->qtensor==0.1.2) (0.22.2.post1)\n",
            "Requirement already satisfied: yfinance<=0.1.55 in /usr/local/lib/python3.7/dist-packages (from qiskit-aqua==0.9.1->qiskit->qtensor==0.1.2) (0.1.55)\n",
            "Requirement already satisfied: quandl<=3.6.0 in /usr/local/lib/python3.7/dist-packages (from qiskit-aqua==0.9.1->qiskit->qtensor==0.1.2) (3.6.0)\n",
            "Requirement already satisfied: h5py<=3.1.0 in /usr/local/lib/python3.7/dist-packages (from qiskit-aqua==0.9.1->qiskit->qtensor==0.1.2) (3.1.0)\n",
            "Requirement already satisfied: docplex<=2.20.204; sys_platform != \"darwin\" in /usr/local/lib/python3.7/dist-packages (from qiskit-aqua==0.9.1->qiskit->qtensor==0.1.2) (2.20.204)\n",
            "Requirement already satisfied: fastdtw<=0.3.4 in /usr/local/lib/python3.7/dist-packages (from qiskit-aqua==0.9.1->qiskit->qtensor==0.1.2) (0.3.4)\n",
            "Requirement already satisfied: dlx<=1.0.4 in /usr/local/lib/python3.7/dist-packages (from qiskit-aqua==0.9.1->qiskit->qtensor==0.1.2) (1.0.4)\n",
            "Requirement already satisfied: pyasn1<0.5.0,>=0.4.6 in /usr/local/lib/python3.7/dist-packages (from pyasn1-modules>=0.2.1->google-auth<2.0dev,>=0.4.0->google-api-core[grpc]<=1.14.0->qtensor==0.1.2) (0.4.8)\n",
            "Requirement already satisfied: mpmath>=0.19 in /usr/local/lib/python3.7/dist-packages (from sympy->cirq-core==0.11.0->cirq->qtensor==0.1.2) (1.2.1)\n",
            "Requirement already satisfied: cryptography>=1.3 in /usr/local/lib/python3.7/dist-packages (from requests-ntlm>=1.1.0->qiskit-ibmq-provider==0.13.1->qiskit->qtensor==0.1.2) (3.4.7)\n",
            "Requirement already satisfied: ntlm-auth>=1.0.2 in /usr/local/lib/python3.7/dist-packages (from requests-ntlm>=1.1.0->qiskit-ibmq-provider==0.13.1->qiskit->qtensor==0.1.2) (1.5.0)\n",
            "Requirement already satisfied: joblib>=0.11 in /usr/local/lib/python3.7/dist-packages (from scikit-learn<=0.24.1,>=0.20.0->qiskit-aqua==0.9.1->qiskit->qtensor==0.1.2) (1.0.1)\n",
            "Requirement already satisfied: multitasking>=0.0.7 in /usr/local/lib/python3.7/dist-packages (from yfinance<=0.1.55->qiskit-aqua==0.9.1->qiskit->qtensor==0.1.2) (0.0.9)\n",
            "Requirement already satisfied: lxml>=4.5.1 in /usr/local/lib/python3.7/dist-packages (from yfinance<=0.1.55->qiskit-aqua==0.9.1->qiskit->qtensor==0.1.2) (4.6.3)\n",
            "Requirement already satisfied: inflection>=0.3.1 in /usr/local/lib/python3.7/dist-packages (from quandl<=3.6.0->qiskit-aqua==0.9.1->qiskit->qtensor==0.1.2) (0.5.1)\n",
            "Requirement already satisfied: more-itertools in /usr/local/lib/python3.7/dist-packages (from quandl<=3.6.0->qiskit-aqua==0.9.1->qiskit->qtensor==0.1.2) (8.7.0)\n",
            "Requirement already satisfied: cached-property; python_version < \"3.8\" in /usr/local/lib/python3.7/dist-packages (from h5py<=3.1.0->qiskit-aqua==0.9.1->qiskit->qtensor==0.1.2) (1.5.2)\n",
            "Requirement already satisfied: cffi>=1.12 in /usr/local/lib/python3.7/dist-packages (from cryptography>=1.3->requests-ntlm>=1.1.0->qiskit-ibmq-provider==0.13.1->qiskit->qtensor==0.1.2) (1.14.5)\n",
            "Requirement already satisfied: pycparser in /usr/local/lib/python3.7/dist-packages (from cffi>=1.12->cryptography>=1.3->requests-ntlm>=1.1.0->qiskit-ibmq-provider==0.13.1->qiskit->qtensor==0.1.2) (2.20)\n",
            "Building wheels for collected packages: qtensor\n",
            "  Building wheel for qtensor (setup.py) ... \u001b[?25l\u001b[?25hdone\n",
            "  Created wheel for qtensor: filename=qtensor-0.1.2-py2.py3-none-any.whl size=649926 sha256=0ef6a8c6b85a42bce3e805708c3ff9291859580345b1ae57460936fe0ed41e7e\n",
            "  Stored in directory: /tmp/pip-ephem-wheel-cache-z2_5zzty/wheels/4f/4b/c1/10720e16e3294fff7026430b27ba65f202e217f28e993a5f50\n",
            "Successfully built qtensor\n"
          ],
          "name": "stdout"
        }
      ]
    },
    {
      "cell_type": "code",
      "metadata": {
        "colab": {
          "base_uri": "https://localhost:8080/"
        },
        "id": "sQpU8uSJJbYx",
        "outputId": "39bdbf13-bfc5-4e03-f012-1e9a71ef88f9"
      },
      "source": [
        "import warnings\n",
        "warnings.filterwarnings('ignore')\n",
        "\n",
        "import time\n",
        "import os\n",
        "import numpy as np\n",
        "import scipy.optimize\n",
        "from scipy.optimize import minimize\n",
        "from argparse import ArgumentParser, ArgumentDefaultsHelpFormatter\n",
        "import random\n",
        "import matplotlib.pyplot as plt\n",
        "import scipy.stats as ss\n",
        "import math\n",
        "import copy\n",
        "import networkx\n",
        "import networkx as nx\n",
        "from datetime import datetime\n",
        "import csv \n",
        "import numpy as np\n",
        "import seaborn as sns\n",
        "from scipy.optimize import curve_fit\n",
        "import matplotlib\n",
        "from matplotlib import pyplot as plt\n",
        "from matplotlib.ticker import ScalarFormatter\n",
        "%matplotlib inline\n",
        "import ast\n",
        "import re\n",
        "from networkx.linalg.spectrum import laplacian_spectrum\n",
        "from itertools import product\n",
        "\n",
        "!pip install nlopt\n",
        "#!pip install quimb\n",
        "#!pip install autoray\n",
        "#!pip install pytorch\n",
        "#!pip install cotengra\n",
        "!pip install quimb autoray git+https://github.com/jcmgray/cotengra\n",
        "!pip install cartesian_explorer\n",
        "import nlopt\n",
        "\n",
        "from qtensor import parameter_optimization as popt\n",
        "import torch\n"
      ],
      "execution_count": 7,
      "outputs": [
        {
          "output_type": "stream",
          "text": [
            "Requirement already satisfied: nlopt in /usr/local/lib/python3.7/dist-packages (2.7.0)\n",
            "Requirement already satisfied: numpy>=1.14 in /usr/local/lib/python3.7/dist-packages (from nlopt) (1.19.5)\n",
            "Collecting git+https://github.com/jcmgray/cotengra\n",
            "  Cloning https://github.com/jcmgray/cotengra to /tmp/pip-req-build-3f320wyp\n",
            "  Running command git clone -q https://github.com/jcmgray/cotengra /tmp/pip-req-build-3f320wyp\n",
            "Requirement already satisfied (use --upgrade to upgrade): cotengra==0.1.0 from git+https://github.com/jcmgray/cotengra in /usr/local/lib/python3.7/dist-packages\n",
            "Requirement already satisfied: quimb in /usr/local/lib/python3.7/dist-packages (1.3.0)\n",
            "Requirement already satisfied: autoray in /usr/local/lib/python3.7/dist-packages (0.2.5)\n",
            "Requirement already satisfied: opt_einsum in /usr/local/lib/python3.7/dist-packages (from cotengra==0.1.0) (3.3.0)\n",
            "Requirement already satisfied: tqdm in /usr/local/lib/python3.7/dist-packages (from cotengra==0.1.0) (4.41.1)\n",
            "Requirement already satisfied: cytoolz in /usr/local/lib/python3.7/dist-packages (from cotengra==0.1.0) (0.11.0)\n",
            "Requirement already satisfied: scipy>=1.0.0 in /usr/local/lib/python3.7/dist-packages (from quimb) (1.4.1)\n",
            "Requirement already satisfied: numba>=0.39 in /usr/local/lib/python3.7/dist-packages (from quimb) (0.51.2)\n",
            "Requirement already satisfied: psutil>=4.3.1 in /usr/local/lib/python3.7/dist-packages (from quimb) (5.4.8)\n",
            "Requirement already satisfied: numpy>=1.17 in /usr/local/lib/python3.7/dist-packages (from quimb) (1.19.5)\n",
            "Requirement already satisfied: toolz>=0.8.0 in /usr/local/lib/python3.7/dist-packages (from cytoolz->cotengra==0.1.0) (0.11.1)\n",
            "Requirement already satisfied: llvmlite<0.35,>=0.34.0.dev0 in /usr/local/lib/python3.7/dist-packages (from numba>=0.39->quimb) (0.34.0)\n",
            "Requirement already satisfied: setuptools in /usr/local/lib/python3.7/dist-packages (from numba>=0.39->quimb) (57.0.0)\n",
            "Building wheels for collected packages: cotengra\n",
            "  Building wheel for cotengra (setup.py) ... \u001b[?25l\u001b[?25hdone\n",
            "  Created wheel for cotengra: filename=cotengra-0.1.0-cp37-none-any.whl size=93862 sha256=5a4459d486c12ebaf1b7bd75ae365b9446cf97769496d79f5059ef38dfc48057\n",
            "  Stored in directory: /tmp/pip-ephem-wheel-cache-t4d63kdj/wheels/52/e9/04/0a344372762d0fd3344e788ce2d14f816bddd673d022a5f915\n",
            "Successfully built cotengra\n",
            "Requirement already satisfied: cartesian_explorer in /usr/local/lib/python3.7/dist-packages (0.1.13)\n",
            "Requirement already satisfied: Click>=7.0 in /usr/local/lib/python3.7/dist-packages (from cartesian_explorer) (7.1.2)\n",
            "Requirement already satisfied: joblib in /usr/local/lib/python3.7/dist-packages (from cartesian_explorer) (1.0.1)\n",
            "Requirement already satisfied: matplotlib in /usr/local/lib/python3.7/dist-packages (from cartesian_explorer) (3.2.2)\n",
            "Requirement already satisfied: networkx in /usr/local/lib/python3.7/dist-packages (from cartesian_explorer) (2.3)\n",
            "Requirement already satisfied: tqdm in /usr/local/lib/python3.7/dist-packages (from cartesian_explorer) (4.41.1)\n",
            "Requirement already satisfied: numpy in /usr/local/lib/python3.7/dist-packages (from cartesian_explorer) (1.19.5)\n",
            "Requirement already satisfied: cycler>=0.10 in /usr/local/lib/python3.7/dist-packages (from matplotlib->cartesian_explorer) (0.10.0)\n",
            "Requirement already satisfied: pyparsing!=2.0.4,!=2.1.2,!=2.1.6,>=2.0.1 in /usr/local/lib/python3.7/dist-packages (from matplotlib->cartesian_explorer) (2.4.7)\n",
            "Requirement already satisfied: python-dateutil>=2.1 in /usr/local/lib/python3.7/dist-packages (from matplotlib->cartesian_explorer) (2.8.1)\n",
            "Requirement already satisfied: kiwisolver>=1.0.1 in /usr/local/lib/python3.7/dist-packages (from matplotlib->cartesian_explorer) (1.3.1)\n",
            "Requirement already satisfied: decorator>=4.3.0 in /usr/local/lib/python3.7/dist-packages (from networkx->cartesian_explorer) (4.4.2)\n",
            "Requirement already satisfied: six in /usr/local/lib/python3.7/dist-packages (from cycler>=0.10->matplotlib->cartesian_explorer) (1.15.0)\n"
          ],
          "name": "stdout"
        }
      ]
    },
    {
      "cell_type": "code",
      "metadata": {
        "id": "PFA1eNwGJ2mT"
      },
      "source": [
        ""
      ],
      "execution_count": 7,
      "outputs": []
    },
    {
      "cell_type": "markdown",
      "metadata": {
        "id": "c53Wc1oAJ4nc"
      },
      "source": [
        "# Identifying Subgraphs"
      ]
    },
    {
      "cell_type": "code",
      "metadata": {
        "colab": {
          "base_uri": "https://localhost:8080/",
          "height": 319
        },
        "id": "I06Sj73jKA4z",
        "outputId": "21072385-7ff3-4cd8-b151-6013082ce288"
      },
      "source": [
        "G = nx.generators.fast_gnp_random_graph(10, 0.5)\n",
        "nx.draw(G)"
      ],
      "execution_count": 11,
      "outputs": [
        {
          "output_type": "display_data",
          "data": {
            "image/png": "[encoded data removed]",
            "text/plain": [
              "<Figure size 432x288 with 1 Axes>"
            ]
          },
          "metadata": {
            "tags": []
          }
        }
      ]
    },
    {
      "cell_type": "code",
      "metadata": {
        "colab": {
          "base_uri": "https://localhost:8080/"
        },
        "id": "u6PGiG8kLpny",
        "outputId": "2f9730ae-c18b-4b0e-985b-6c3bac3a35a7"
      },
      "source": [
        "G.edges()"
      ],
      "execution_count": 14,
      "outputs": [
        {
          "output_type": "execute_result",
          "data": {
            "text/plain": [
              "EdgeView([(0, 1), (0, 4), (0, 5), (0, 9), (1, 2), (1, 5), (1, 7), (2, 4), (2, 6), (2, 7), (2, 8), (3, 4), (3, 5), (3, 9), (4, 8), (5, 7), (5, 8), (5, 9), (6, 7), (6, 9), (7, 8), (7, 9)])"
            ]
          },
          "metadata": {
            "tags": []
          },
          "execution_count": 14
        }
      ]
    },
    {
      "cell_type": "code",
      "metadata": {
        "colab": {
          "base_uri": "https://localhost:8080/"
        },
        "id": "PZd38TfFM6AZ",
        "outputId": "ec06cba5-2a2f-4922-b084-a560e609dee7"
      },
      "source": [
        "dicty = nx.all_neighbors(G, 0)\n",
        "for v in dicty:\n",
        "  print(v)"
      ],
      "execution_count": 17,
      "outputs": [
        {
          "output_type": "stream",
          "text": [
            "1\n",
            "4\n",
            "5\n",
            "9\n"
          ],
          "name": "stdout"
        }
      ]
    },
    {
      "cell_type": "code",
      "metadata": {
        "id": "q5ad5jUiOcNm"
      },
      "source": [
        "v1 = 0\n",
        "v2 = 1\n",
        "\n",
        "dicty1 = nx.all_neighbors(G, 0)\n",
        "dicty2 = nx.all_neighbors(G, 1)"
      ],
      "execution_count": 18,
      "outputs": []
    },
    {
      "cell_type": "code",
      "metadata": {
        "id": "8eHIB13LOLLj"
      },
      "source": [
        "subg_edge_set = []\n",
        "for v in dicty1:\n",
        "  edge = (v1, v)\n",
        "  if edge not in subg_edge_set:\n",
        "    subg_edge_set.append(edge)\n",
        "\n",
        "for v in dicty2:\n",
        "  edge = (v2, v)\n",
        "  if edge not in subg_edge_set:\n",
        "    subg_edge_set.append(edge)"
      ],
      "execution_count": 19,
      "outputs": []
    },
    {
      "cell_type": "code",
      "metadata": {
        "colab": {
          "base_uri": "https://localhost:8080/",
          "height": 319
        },
        "id": "YNYaAIi0O7Pi",
        "outputId": "8e78daad-d9cb-46b8-fdf0-604264e1d8a1"
      },
      "source": [
        "H = G.edge_subgraph(subg_edge_set)\n",
        "nx.draw(H)"
      ],
      "execution_count": 21,
      "outputs": [
        {
          "output_type": "display_data",
          "data": {
            "image/png": "[encoded data removed]",
            "text/plain": [
              "<Figure size 432x288 with 1 Axes>"
            ]
          },
          "metadata": {
            "tags": []
          }
        }
      ]
    },
    {
      "cell_type": "code",
      "metadata": {
        "colab": {
          "base_uri": "https://localhost:8080/"
        },
        "id": "WTPrruXGQOMH",
        "outputId": "251c5181-d6ee-4a87-dc0d-3e5b0bfb5bec"
      },
      "source": [
        "G.nodes"
      ],
      "execution_count": 22,
      "outputs": [
        {
          "output_type": "execute_result",
          "data": {
            "text/plain": [
              "NodeView((0, 1, 2, 3, 4, 5, 6, 7, 8, 9))"
            ]
          },
          "metadata": {
            "tags": []
          },
          "execution_count": 22
        }
      ]
    },
    {
      "cell_type": "code",
      "metadata": {
        "id": "wHwKNbRiPJVB"
      },
      "source": [
        "def find_subgraphs(G):\n",
        "  '''\n",
        "  Input: A graph G\n",
        "  Output: A dictionary containg subgraphs and their frequency in G\n",
        "  '''\n",
        "  edges_done = []\n",
        "  subgraphs = {}\n",
        "\n",
        "  vertices = G.nodes\n",
        "  for v1 in vertices:\n",
        "    neighbors = nx.all_neighbors(G,v1)\n",
        "    #iterate over edges\n",
        "    for v2 in neighbors:\n",
        "\n",
        "      ##if already there\n",
        "      if (v1,v2) in edges_done:\n",
        "        continue\n",
        "      ##add if not there\n",
        "      else:\n",
        "        edges_done.append((v1,v2))\n",
        "        edges_done.append((v2,v1))\n",
        "      \n",
        "      neighbors1 = neighbors\n",
        "      neighbors2 = nx.all_neighbors(G, v2)\n",
        "\n",
        "      subg_edge_set = []\n",
        "      for v in neighbors1:\n",
        "        edge = (v1, v)\n",
        "        if edge not in subg_edge_set:\n",
        "          subg_edge_set.append(edge)\n",
        "\n",
        "      for v in neighbors2:\n",
        "        edge = (v2, v)\n",
        "        if edge not in subg_edge_set:\n",
        "          subg_edge_set.append(edge)\n",
        "\n",
        "      ##check if isomorphic\n"
      ],
      "execution_count": null,
      "outputs": []
    }
  ]
}